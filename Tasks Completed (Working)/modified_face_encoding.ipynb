{
  "nbformat": 4,
  "nbformat_minor": 0,
  "metadata": {
    "colab": {
      "provenance": []
    },
    "kernelspec": {
      "name": "python3",
      "display_name": "Python 3"
    },
    "language_info": {
      "name": "python"
    }
  },
  "cells": [
    {
      "cell_type": "code",
      "execution_count": null,
      "metadata": {
        "colab": {
          "base_uri": "https://localhost:8080/"
        },
        "id": "f6dMd5hJtOcY",
        "outputId": "656191c5-3675-4c8e-cd9e-6238c73b2279"
      },
      "outputs": [
        {
          "output_type": "stream",
          "name": "stdout",
          "text": [
            "[114 120 121 ... 150 195 210]\n"
          ]
        }
      ],
      "source": [
        "import cv2\n",
        "import numpy as np\n",
        "\n",
        "# Load the Haar cascade classifier for face detection\n",
        "face_cascade = cv2.CascadeClassifier(cv2.data.haarcascades + \"haarcascade_frontalface_default.xml\")\n",
        "\n",
        "# Load the input image\n",
        "img = cv2.imread('/content/Collage.jpg')\n",
        "\n",
        "# Convert the image to grayscale\n",
        "gray = cv2.cvtColor(img, cv2.COLOR_BGR2GRAY)\n",
        "\n",
        "# Detect faces in the image\n",
        "faces = face_cascade.detectMultiScale(gray, 1.3, 5)\n",
        "\n",
        "# Save the first detected face as a separate image\n",
        "if len(faces) > 0:\n",
        "    (x, y, w, h) = faces[0]\n",
        "    face = gray[y:y+h, x:x+w]\n",
        "    face = cv2.resize(face, (128, 128))\n",
        "\n",
        "    print(face.flatten());\n",
        "\n",
        "    \n"
      ]
    }
  ]
}