{
  "nbformat": 4,
  "nbformat_minor": 0,
  "metadata": {
    "colab": {
      "provenance": []
    },
    "kernelspec": {
      "name": "python3",
      "display_name": "Python 3"
    },
    "language_info": {
      "name": "python"
    }
  },
  "cells": [
    {
      "cell_type": "code",
      "execution_count": null,
      "metadata": {
        "id": "k4h3IlDT71aE"
      },
      "outputs": [],
      "source": [
        "import tensorflow as tf\n",
        "import numpy as np\n",
        "import matplotlib.pyplot as plt\n",
        "from PIL import Image\n",
        "import os\n",
        "\n",
        "\n",
        "dir_path = 'path/to/images/'\n",
        "\n",
        "img_filenames = os.listdir(dir_path)\n",
        "\n",
        "images = []\n",
        "\n",
        "for filename in img_filenames:\n",
        "    img = Image.open(os.path.join(dir_path, filename))\n",
        "    images.append(img)\n",
        "\n",
        "images_array = np.asarray(images)\n",
        "\n",
        "datagen = tf.keras.preprocessing.image.ImageDataGenerator(\n",
        "    rotation_range=20, \n",
        "    width_shift_range=0.2, \n",
        "    height_shift_range=0.2,\n",
        "    shear_range=0.2, \n",
        "    zoom_range=0.2, \n",
        "    horizontal_flip=True, \n",
        "    fill_mode='nearest' \n",
        ")\n",
        "\n",
        "images_augmented = datagen.flow(images_array, batch_size=len(images_array), shuffle=False)\n",
        "\n",
        "images_normalized = tf.keras.applications.resnet.preprocess_input(images_array)\n",
        "\n",
        "images_contrast = []\n",
        "for img in images:\n",
        "    img_contrast = ImageOps.equalize(img)\n",
        "    images_contrast.append(img_contrast)\n",
        "\n",
        "fig, axs = plt.subplots(1, len(images), figsize=(15, 10))\n",
        "for i, img in enumerate(images):\n",
        "    axs[i].imshow(img)\n",
        "    axs[i].axis('off')\n",
        "    axs[i].set_title('Image %d' % (i+1))\n",
        "\n",
        "fig, axs = plt.subplots(1, len(images), figsize=(15, 10))\n",
        "for i, img in enumerate(images_augmented[0]):\n",
        "    axs[i].imshow(img.astype('uint8'))\n",
        "    axs[i].axis('off')\n",
        "    axs[i].set_title('Augmented Image %d' % (i+1))\n",
        "\n",
        "fig, axs = plt.subplots(1, len(images), figsize=(15, 10))\n",
        "for i, img in enumerate(images_normalized):\n",
        "    axs[i].imshow(img)\n",
        "    axs[i].axis('off')\n",
        "    axs[i].set_title('Normalized Image %d' % (i+1))\n",
        "\n",
        "fig, axs = plt.subplots(1, len(images), figsize=(15, 10))\n",
        "for i, img in enumerate(images_contrast):\n",
        "    axs[i].imshow(img)\n",
        "    axs[i].axis('off')\n",
        "    axs[i].set_title('Contrast-Adjusted Image %d' % (i+1))\n",
        "\n",
        "plt.show()\n"
      ]
    }
  ]
}