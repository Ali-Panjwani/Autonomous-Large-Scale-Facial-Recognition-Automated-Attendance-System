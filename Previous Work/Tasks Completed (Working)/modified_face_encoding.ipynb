{
  "nbformat": 4,
  "nbformat_minor": 0,
  "metadata": {
    "colab": {
      "provenance": []
    },
    "kernelspec": {
      "name": "python3",
      "display_name": "Python 3"
    },
    "language_info": {
      "name": "python"
    }
  },
  "cells": [
    {
      "cell_type": "code",
      "execution_count": null,
      "metadata": {
        "id": "f6dMd5hJtOcY"
      },
      "outputs": [],
      "source": [
        "import cv2\n",
        "import numpy as np\n",
        "from sklearn.decomposition import PCA\n",
        "\n",
        "# Load the image\n",
        "img = cv2.imread('your_image.jpg', 0)\n",
        "\n",
        "# Flatten the image\n",
        "img_flattened = img.flatten()\n",
        "\n",
        "# Perform PCA on the image\n",
        "pca = PCA()\n",
        "pca.fit([img_flattened])\n",
        "eigenfaces = pca.components_\n",
        "\n",
        "# Get the weights of the image\n",
        "weights = eigenfaces @ (img_flattened - pca.mean_).T\n",
        "\n",
        "# Print the weights\n",
        "print(weights)\n"
      ]
    }
  ]
}