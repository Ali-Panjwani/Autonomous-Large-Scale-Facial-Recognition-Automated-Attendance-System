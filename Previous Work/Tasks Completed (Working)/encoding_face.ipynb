{
  "nbformat": 4,
  "nbformat_minor": 0,
  "metadata": {
    "colab": {
      "provenance": []
    },
    "kernelspec": {
      "name": "python3",
      "display_name": "Python 3"
    },
    "language_info": {
      "name": "python"
    }
  },
  "cells": [
    {
      "cell_type": "code",
      "source": [
        "from sklearn.preprocessing import LabelEncoder\n",
        "import matplotlib.pyplot as plt\n",
        "from sklearn.model_selection import train_test_split\n",
        "from sklearn.datasets import fetch_lfw_people\n",
        "from sklearn.metrics import classification_report\n",
        "from sklearn.decomposition import PCA\n",
        "from sklearn.neural_network import MLPClassifier\n",
        "import numpy as np\n",
        "import cv2\n",
        "from sys import getsizeof\n",
        "from numpy import array\n",
        "import numpy as np\n",
        "import pandas as pd\n",
        "import cv2 as cv\n",
        "from google.colab.patches import cv2_imshow\n",
        "from skimage import io\n",
        "from PIL import Image"
      ],
      "metadata": {
        "id": "3UGLdUCDr_XM"
      },
      "execution_count": null,
      "outputs": []
    },
    {
      "cell_type": "code",
      "source": [
        "import cv2\n",
        "!wget \"https://cdn.pixabay.com/photo/2021/02/12/02/01/rosebud-6006985_1280.jpg\"\n",
        "img_color = cv2.imread('rosebud-6006985_1280.jpg',1)\n",
        "img_grayscale = cv2.imread('rosebud-6006985_1280.jpg',0)\n",
        "img_unchanged = cv2.imread('rosebud-6006985_1280.jpg',-1)\n"
      ],
      "metadata": {
        "id": "AgePodFOsPFb"
      },
      "execution_count": null,
      "outputs": []
    },
    {
      "cell_type": "code",
      "source": [
        "lfw_dataset = fetch_lfw_people(min_faces_per_person=100)\n",
        "_, h, w = lfw_dataset.images.shape\n",
        "X = img_grayscale\n",
        "print(X.shape)\n",
        "array1 = array(X)\n",
        "size1 = getsizeof(X)\n",
        "print(size1)\n",
        "y = lfw_dataset.target\n",
        "# print(y[1].shape)\n",
        "target_names = lfw_dataset.target_names\n",
        "# print(target_names)\n",
        "pcafaces =np.array([f.flatten() for f in X[0]])"
      ],
      "metadata": {
        "id": "ftdYgFZvsTcu"
      },
      "execution_count": null,
      "outputs": []
    },
    {
      "cell_type": "code",
      "source": [
        "print(pcafaces.shape)\n",
        "array2 = array(pcafaces)\n",
        "size2 = getsizeof(pcafaces)\n",
        "print(size2)\n",
        "\n",
        "n_components = 100\n",
        "pca = PCA().fit(pcafaces)\n",
        "n_components = 50\n",
        "eigenfaces = pca.components_[:n_components]\n",
        "# apply PCA transformation\n",
        "...\n",
        "# Generate weights as a KxN matrix where K is the number of eigenfaces and N the number of samples\n",
        "weights = eigenfaces @ (pcafaces - pca.mean_).T\n",
        "print(weights)"
      ],
      "metadata": {
        "id": "QMaF9feUshj9"
      },
      "execution_count": null,
      "outputs": []
    }
  ]
}